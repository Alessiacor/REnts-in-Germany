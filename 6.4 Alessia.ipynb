{
 "cells": [
  {
   "cell_type": "markdown",
   "metadata": {},
   "source": [
    "## 6.4 Machine Learning Part 1"
   ]
  },
  {
   "cell_type": "markdown",
   "metadata": {},
   "source": [
    "#### 1. Importing libraries and data\n",
    "#### 2. Data cleaning\n",
    "#### 3. Data prep for regression analysis\n",
    "#### 4. Regression analysis\n",
    "#### Bonus: performance improvement after removing outliers"
   ]
  },
  {
   "cell_type": "markdown",
   "metadata": {},
   "source": [
    "### 1. Importing libraries and data"
   ]
  },
  {
   "cell_type": "code",
   "execution_count": 2,
   "metadata": {},
   "outputs": [],
   "source": [
    "import pandas as pd\n",
    "import numpy as np\n",
    "import seaborn as sns\n",
    "import matplotlib\n",
    "import matplotlib.pyplot as plt\n",
    "import os\n",
    "import sklearn\n",
    "from sklearn.model_selection import train_test_split \n",
    "from sklearn.linear_model import LinearRegression\n",
    "from sklearn.metrics import mean_squared_error, r2_score"
   ]
  },
  {
   "cell_type": "code",
   "execution_count": 3,
   "metadata": {},
   "outputs": [],
   "source": [
    "%matplotlib inline"
   ]
  },
  {
   "cell_type": "code",
   "execution_count": 4,
   "metadata": {},
   "outputs": [],
   "source": [
    "path = r'D:\\alessia\\Achievement 6 - Alessia\\02 Data'"
   ]
  },
  {
   "cell_type": "code",
   "execution_count": 5,
   "metadata": {},
   "outputs": [],
   "source": [
    "df = pd.read_csv(os.path.join(path, 'apr20_rent_33_col.csv'))"
   ]
  },
  {
   "cell_type": "markdown",
   "metadata": {},
   "source": [
    "### 2. Data cleaning"
   ]
  },
  {
   "cell_type": "code",
   "execution_count": 6,
   "metadata": {
    "scrolled": true
   },
   "outputs": [
    {
     "data": {
      "text/plain": [
       "Index(['Unnamed: 0', 'obj_regio1', 'obj_heatingType', 'obj_cId',\n",
       "       'obj_newlyConst', 'obj_pricetrend', 'obj_yearConstructed',\n",
       "       'obj_pricetrendbuy', 'obj_firingTypes', 'obj_ExclusiveExpose',\n",
       "       'geo_bln', 'obj_cellar', 'obj_houseNumber', 'obj_livingSpace',\n",
       "       'geo_krs', 'obj_zipCode', 'obj_condition', 'obj_street',\n",
       "       'obj_streetPlain', 'geo_plz', 'obj_noRooms', 'geo_land', 'ga_cd_via',\n",
       "       'obj_immotype', 'obj_telekomInternetProductAvailable',\n",
       "       'obj_barrierFree', 'obj_regio3', 'obj_objectnumber',\n",
       "       'obj_livingSpaceRange', 'obj_regio2', 'obj_telekomTvOffer',\n",
       "       'obj_telekomUploadSpeed', 'obj_telekomDownloadSpeed', 'obj_totalRent'],\n",
       "      dtype='object')"
      ]
     },
     "execution_count": 6,
     "metadata": {},
     "output_type": "execute_result"
    }
   ],
   "source": [
    "df.columns"
   ]
  },
  {
   "cell_type": "code",
   "execution_count": 7,
   "metadata": {
    "scrolled": true
   },
   "outputs": [
    {
     "data": {
      "text/html": [
       "<div>\n",
       "<style scoped>\n",
       "    .dataframe tbody tr th:only-of-type {\n",
       "        vertical-align: middle;\n",
       "    }\n",
       "\n",
       "    .dataframe tbody tr th {\n",
       "        vertical-align: top;\n",
       "    }\n",
       "\n",
       "    .dataframe thead th {\n",
       "        text-align: right;\n",
       "    }\n",
       "</style>\n",
       "<table border=\"1\" class=\"dataframe\">\n",
       "  <thead>\n",
       "    <tr style=\"text-align: right;\">\n",
       "      <th></th>\n",
       "      <th>Unnamed: 0</th>\n",
       "      <th>obj_regio1</th>\n",
       "      <th>obj_heatingType</th>\n",
       "      <th>obj_cId</th>\n",
       "      <th>obj_newlyConst</th>\n",
       "      <th>obj_pricetrend</th>\n",
       "      <th>obj_yearConstructed</th>\n",
       "      <th>obj_pricetrendbuy</th>\n",
       "      <th>obj_firingTypes</th>\n",
       "      <th>obj_ExclusiveExpose</th>\n",
       "      <th>...</th>\n",
       "      <th>obj_telekomInternetProductAvailable</th>\n",
       "      <th>obj_barrierFree</th>\n",
       "      <th>obj_regio3</th>\n",
       "      <th>obj_objectnumber</th>\n",
       "      <th>obj_livingSpaceRange</th>\n",
       "      <th>obj_regio2</th>\n",
       "      <th>obj_telekomTvOffer</th>\n",
       "      <th>obj_telekomUploadSpeed</th>\n",
       "      <th>obj_telekomDownloadSpeed</th>\n",
       "      <th>obj_totalRent</th>\n",
       "    </tr>\n",
       "  </thead>\n",
       "  <tbody>\n",
       "    <tr>\n",
       "      <th>0</th>\n",
       "      <td>0</td>\n",
       "      <td>Nordrhein_Westfalen</td>\n",
       "      <td>floor_heating</td>\n",
       "      <td>18611189</td>\n",
       "      <td>y</td>\n",
       "      <td>3.68</td>\n",
       "      <td>2019.0</td>\n",
       "      <td>9.79</td>\n",
       "      <td>district_heating</td>\n",
       "      <td>False</td>\n",
       "      <td>...</td>\n",
       "      <td>True</td>\n",
       "      <td>y</td>\n",
       "      <td>Innenstadt</td>\n",
       "      <td>aed0c058-e395-4d65-84b3-85f94a21bd5f</td>\n",
       "      <td>3</td>\n",
       "      <td>Bielefeld</td>\n",
       "      <td>ONE_YEAR_FREE</td>\n",
       "      <td>40 MBit/s</td>\n",
       "      <td>100 MBit/s</td>\n",
       "      <td>887.0</td>\n",
       "    </tr>\n",
       "    <tr>\n",
       "      <th>1</th>\n",
       "      <td>1</td>\n",
       "      <td>Nordrhein_Westfalen</td>\n",
       "      <td>central_heating</td>\n",
       "      <td>18630986</td>\n",
       "      <td>n</td>\n",
       "      <td>3.12</td>\n",
       "      <td>2002.0</td>\n",
       "      <td>6.87</td>\n",
       "      <td>oil</td>\n",
       "      <td>False</td>\n",
       "      <td>...</td>\n",
       "      <td>True</td>\n",
       "      <td>n</td>\n",
       "      <td>Espelkamp</td>\n",
       "      <td>5fe224ee-998b-4edd-be00-805fecd853e7</td>\n",
       "      <td>3</td>\n",
       "      <td>Minden_Lübbecke_Kreis</td>\n",
       "      <td>ONE_YEAR_FREE</td>\n",
       "      <td>2,4 MBit/s</td>\n",
       "      <td>16 MBit/s</td>\n",
       "      <td>690.0</td>\n",
       "    </tr>\n",
       "    <tr>\n",
       "      <th>2</th>\n",
       "      <td>2</td>\n",
       "      <td>Bayern</td>\n",
       "      <td>central_heating</td>\n",
       "      <td>18593341</td>\n",
       "      <td>n</td>\n",
       "      <td>4.73</td>\n",
       "      <td>2015.0</td>\n",
       "      <td>4.54</td>\n",
       "      <td>gas:oil</td>\n",
       "      <td>False</td>\n",
       "      <td>...</td>\n",
       "      <td>True</td>\n",
       "      <td>n</td>\n",
       "      <td>Egling</td>\n",
       "      <td>FALC-MG-11509</td>\n",
       "      <td>7</td>\n",
       "      <td>Bad_Tölz_Wolfratshausen_Kreis</td>\n",
       "      <td>ONE_YEAR_FREE</td>\n",
       "      <td>40 MBit/s</td>\n",
       "      <td>100 MBit/s</td>\n",
       "      <td>1885.0</td>\n",
       "    </tr>\n",
       "    <tr>\n",
       "      <th>3</th>\n",
       "      <td>3</td>\n",
       "      <td>Nordrhein_Westfalen</td>\n",
       "      <td>gas_heating</td>\n",
       "      <td>4280742</td>\n",
       "      <td>n</td>\n",
       "      <td>NaN</td>\n",
       "      <td>1964.0</td>\n",
       "      <td>NaN</td>\n",
       "      <td>gas</td>\n",
       "      <td>NaN</td>\n",
       "      <td>...</td>\n",
       "      <td>NaN</td>\n",
       "      <td>n</td>\n",
       "      <td>Vingst</td>\n",
       "      <td>89f6f705-cc82-45d6-96a9-b429992cc47a</td>\n",
       "      <td>3</td>\n",
       "      <td>Köln</td>\n",
       "      <td>NaN</td>\n",
       "      <td>NaN</td>\n",
       "      <td>NaN</td>\n",
       "      <td>940.0</td>\n",
       "    </tr>\n",
       "    <tr>\n",
       "      <th>4</th>\n",
       "      <td>4</td>\n",
       "      <td>Nordrhein_Westfalen</td>\n",
       "      <td>central_heating</td>\n",
       "      <td>5212713</td>\n",
       "      <td>n</td>\n",
       "      <td>1.47</td>\n",
       "      <td>1855.0</td>\n",
       "      <td>7.72</td>\n",
       "      <td>gas</td>\n",
       "      <td>False</td>\n",
       "      <td>...</td>\n",
       "      <td>True</td>\n",
       "      <td>n</td>\n",
       "      <td>Buchholz</td>\n",
       "      <td>3255a794-67ac-4400-aeca-a674e4ac2cad</td>\n",
       "      <td>3</td>\n",
       "      <td>Dortmund</td>\n",
       "      <td>ONE_YEAR_FREE</td>\n",
       "      <td>40 MBit/s</td>\n",
       "      <td>100 MBit/s</td>\n",
       "      <td>700.0</td>\n",
       "    </tr>\n",
       "  </tbody>\n",
       "</table>\n",
       "<p>5 rows × 34 columns</p>\n",
       "</div>"
      ],
      "text/plain": [
       "   Unnamed: 0           obj_regio1  obj_heatingType   obj_cId obj_newlyConst  \\\n",
       "0           0  Nordrhein_Westfalen    floor_heating  18611189              y   \n",
       "1           1  Nordrhein_Westfalen  central_heating  18630986              n   \n",
       "2           2               Bayern  central_heating  18593341              n   \n",
       "3           3  Nordrhein_Westfalen      gas_heating   4280742              n   \n",
       "4           4  Nordrhein_Westfalen  central_heating   5212713              n   \n",
       "\n",
       "   obj_pricetrend  obj_yearConstructed  obj_pricetrendbuy   obj_firingTypes  \\\n",
       "0            3.68               2019.0               9.79  district_heating   \n",
       "1            3.12               2002.0               6.87               oil   \n",
       "2            4.73               2015.0               4.54           gas:oil   \n",
       "3             NaN               1964.0                NaN               gas   \n",
       "4            1.47               1855.0               7.72               gas   \n",
       "\n",
       "  obj_ExclusiveExpose  ... obj_telekomInternetProductAvailable  \\\n",
       "0               False  ...                                True   \n",
       "1               False  ...                                True   \n",
       "2               False  ...                                True   \n",
       "3                 NaN  ...                                 NaN   \n",
       "4               False  ...                                True   \n",
       "\n",
       "  obj_barrierFree  obj_regio3                      obj_objectnumber  \\\n",
       "0               y  Innenstadt  aed0c058-e395-4d65-84b3-85f94a21bd5f   \n",
       "1               n   Espelkamp  5fe224ee-998b-4edd-be00-805fecd853e7   \n",
       "2               n      Egling                         FALC-MG-11509   \n",
       "3               n      Vingst  89f6f705-cc82-45d6-96a9-b429992cc47a   \n",
       "4               n    Buchholz  3255a794-67ac-4400-aeca-a674e4ac2cad   \n",
       "\n",
       "  obj_livingSpaceRange                     obj_regio2 obj_telekomTvOffer  \\\n",
       "0                    3                      Bielefeld      ONE_YEAR_FREE   \n",
       "1                    3          Minden_Lübbecke_Kreis      ONE_YEAR_FREE   \n",
       "2                    7  Bad_Tölz_Wolfratshausen_Kreis      ONE_YEAR_FREE   \n",
       "3                    3                           Köln                NaN   \n",
       "4                    3                       Dortmund      ONE_YEAR_FREE   \n",
       "\n",
       "  obj_telekomUploadSpeed obj_telekomDownloadSpeed  obj_totalRent  \n",
       "0              40 MBit/s               100 MBit/s          887.0  \n",
       "1             2,4 MBit/s                16 MBit/s          690.0  \n",
       "2              40 MBit/s               100 MBit/s         1885.0  \n",
       "3                    NaN                      NaN          940.0  \n",
       "4              40 MBit/s               100 MBit/s          700.0  \n",
       "\n",
       "[5 rows x 34 columns]"
      ]
     },
     "execution_count": 7,
     "metadata": {},
     "output_type": "execute_result"
    }
   ],
   "source": [
    "df.head()"
   ]
  },
  {
   "cell_type": "code",
   "execution_count": 8,
   "metadata": {
    "scrolled": true
   },
   "outputs": [
    {
     "data": {
      "text/plain": [
       "(83273, 34)"
      ]
     },
     "execution_count": 8,
     "metadata": {},
     "output_type": "execute_result"
    }
   ],
   "source": [
    "df.shape"
   ]
  },
  {
   "cell_type": "code",
   "execution_count": 9,
   "metadata": {},
   "outputs": [],
   "source": [
    "df.rename(columns = {'obj_regio1' : 'region', 'objyearConstructed': 'year constructed', 'obj_noRooms' : 'nr. of rooms', 'obj_totalRent':'rent'}, inplace = True)"
   ]
  },
  {
   "cell_type": "code",
   "execution_count": 10,
   "metadata": {},
   "outputs": [
    {
     "data": {
      "text/html": [
       "<div>\n",
       "<style scoped>\n",
       "    .dataframe tbody tr th:only-of-type {\n",
       "        vertical-align: middle;\n",
       "    }\n",
       "\n",
       "    .dataframe tbody tr th {\n",
       "        vertical-align: top;\n",
       "    }\n",
       "\n",
       "    .dataframe thead th {\n",
       "        text-align: right;\n",
       "    }\n",
       "</style>\n",
       "<table border=\"1\" class=\"dataframe\">\n",
       "  <thead>\n",
       "    <tr style=\"text-align: right;\">\n",
       "      <th></th>\n",
       "      <th>Unnamed: 0</th>\n",
       "      <th>region</th>\n",
       "      <th>obj_heatingType</th>\n",
       "      <th>obj_cId</th>\n",
       "      <th>obj_newlyConst</th>\n",
       "      <th>obj_pricetrend</th>\n",
       "      <th>obj_yearConstructed</th>\n",
       "      <th>obj_pricetrendbuy</th>\n",
       "      <th>obj_firingTypes</th>\n",
       "      <th>obj_ExclusiveExpose</th>\n",
       "      <th>...</th>\n",
       "      <th>obj_telekomInternetProductAvailable</th>\n",
       "      <th>obj_barrierFree</th>\n",
       "      <th>obj_regio3</th>\n",
       "      <th>obj_objectnumber</th>\n",
       "      <th>obj_livingSpaceRange</th>\n",
       "      <th>obj_regio2</th>\n",
       "      <th>obj_telekomTvOffer</th>\n",
       "      <th>obj_telekomUploadSpeed</th>\n",
       "      <th>obj_telekomDownloadSpeed</th>\n",
       "      <th>rent</th>\n",
       "    </tr>\n",
       "  </thead>\n",
       "  <tbody>\n",
       "    <tr>\n",
       "      <th>0</th>\n",
       "      <td>0</td>\n",
       "      <td>Nordrhein_Westfalen</td>\n",
       "      <td>floor_heating</td>\n",
       "      <td>18611189</td>\n",
       "      <td>y</td>\n",
       "      <td>3.68</td>\n",
       "      <td>2019.0</td>\n",
       "      <td>9.79</td>\n",
       "      <td>district_heating</td>\n",
       "      <td>False</td>\n",
       "      <td>...</td>\n",
       "      <td>True</td>\n",
       "      <td>y</td>\n",
       "      <td>Innenstadt</td>\n",
       "      <td>aed0c058-e395-4d65-84b3-85f94a21bd5f</td>\n",
       "      <td>3</td>\n",
       "      <td>Bielefeld</td>\n",
       "      <td>ONE_YEAR_FREE</td>\n",
       "      <td>40 MBit/s</td>\n",
       "      <td>100 MBit/s</td>\n",
       "      <td>887.0</td>\n",
       "    </tr>\n",
       "    <tr>\n",
       "      <th>1</th>\n",
       "      <td>1</td>\n",
       "      <td>Nordrhein_Westfalen</td>\n",
       "      <td>central_heating</td>\n",
       "      <td>18630986</td>\n",
       "      <td>n</td>\n",
       "      <td>3.12</td>\n",
       "      <td>2002.0</td>\n",
       "      <td>6.87</td>\n",
       "      <td>oil</td>\n",
       "      <td>False</td>\n",
       "      <td>...</td>\n",
       "      <td>True</td>\n",
       "      <td>n</td>\n",
       "      <td>Espelkamp</td>\n",
       "      <td>5fe224ee-998b-4edd-be00-805fecd853e7</td>\n",
       "      <td>3</td>\n",
       "      <td>Minden_Lübbecke_Kreis</td>\n",
       "      <td>ONE_YEAR_FREE</td>\n",
       "      <td>2,4 MBit/s</td>\n",
       "      <td>16 MBit/s</td>\n",
       "      <td>690.0</td>\n",
       "    </tr>\n",
       "    <tr>\n",
       "      <th>2</th>\n",
       "      <td>2</td>\n",
       "      <td>Bayern</td>\n",
       "      <td>central_heating</td>\n",
       "      <td>18593341</td>\n",
       "      <td>n</td>\n",
       "      <td>4.73</td>\n",
       "      <td>2015.0</td>\n",
       "      <td>4.54</td>\n",
       "      <td>gas:oil</td>\n",
       "      <td>False</td>\n",
       "      <td>...</td>\n",
       "      <td>True</td>\n",
       "      <td>n</td>\n",
       "      <td>Egling</td>\n",
       "      <td>FALC-MG-11509</td>\n",
       "      <td>7</td>\n",
       "      <td>Bad_Tölz_Wolfratshausen_Kreis</td>\n",
       "      <td>ONE_YEAR_FREE</td>\n",
       "      <td>40 MBit/s</td>\n",
       "      <td>100 MBit/s</td>\n",
       "      <td>1885.0</td>\n",
       "    </tr>\n",
       "    <tr>\n",
       "      <th>3</th>\n",
       "      <td>3</td>\n",
       "      <td>Nordrhein_Westfalen</td>\n",
       "      <td>gas_heating</td>\n",
       "      <td>4280742</td>\n",
       "      <td>n</td>\n",
       "      <td>NaN</td>\n",
       "      <td>1964.0</td>\n",
       "      <td>NaN</td>\n",
       "      <td>gas</td>\n",
       "      <td>NaN</td>\n",
       "      <td>...</td>\n",
       "      <td>NaN</td>\n",
       "      <td>n</td>\n",
       "      <td>Vingst</td>\n",
       "      <td>89f6f705-cc82-45d6-96a9-b429992cc47a</td>\n",
       "      <td>3</td>\n",
       "      <td>Köln</td>\n",
       "      <td>NaN</td>\n",
       "      <td>NaN</td>\n",
       "      <td>NaN</td>\n",
       "      <td>940.0</td>\n",
       "    </tr>\n",
       "    <tr>\n",
       "      <th>4</th>\n",
       "      <td>4</td>\n",
       "      <td>Nordrhein_Westfalen</td>\n",
       "      <td>central_heating</td>\n",
       "      <td>5212713</td>\n",
       "      <td>n</td>\n",
       "      <td>1.47</td>\n",
       "      <td>1855.0</td>\n",
       "      <td>7.72</td>\n",
       "      <td>gas</td>\n",
       "      <td>False</td>\n",
       "      <td>...</td>\n",
       "      <td>True</td>\n",
       "      <td>n</td>\n",
       "      <td>Buchholz</td>\n",
       "      <td>3255a794-67ac-4400-aeca-a674e4ac2cad</td>\n",
       "      <td>3</td>\n",
       "      <td>Dortmund</td>\n",
       "      <td>ONE_YEAR_FREE</td>\n",
       "      <td>40 MBit/s</td>\n",
       "      <td>100 MBit/s</td>\n",
       "      <td>700.0</td>\n",
       "    </tr>\n",
       "  </tbody>\n",
       "</table>\n",
       "<p>5 rows × 34 columns</p>\n",
       "</div>"
      ],
      "text/plain": [
       "   Unnamed: 0               region  obj_heatingType   obj_cId obj_newlyConst  \\\n",
       "0           0  Nordrhein_Westfalen    floor_heating  18611189              y   \n",
       "1           1  Nordrhein_Westfalen  central_heating  18630986              n   \n",
       "2           2               Bayern  central_heating  18593341              n   \n",
       "3           3  Nordrhein_Westfalen      gas_heating   4280742              n   \n",
       "4           4  Nordrhein_Westfalen  central_heating   5212713              n   \n",
       "\n",
       "   obj_pricetrend  obj_yearConstructed  obj_pricetrendbuy   obj_firingTypes  \\\n",
       "0            3.68               2019.0               9.79  district_heating   \n",
       "1            3.12               2002.0               6.87               oil   \n",
       "2            4.73               2015.0               4.54           gas:oil   \n",
       "3             NaN               1964.0                NaN               gas   \n",
       "4            1.47               1855.0               7.72               gas   \n",
       "\n",
       "  obj_ExclusiveExpose  ... obj_telekomInternetProductAvailable  \\\n",
       "0               False  ...                                True   \n",
       "1               False  ...                                True   \n",
       "2               False  ...                                True   \n",
       "3                 NaN  ...                                 NaN   \n",
       "4               False  ...                                True   \n",
       "\n",
       "  obj_barrierFree  obj_regio3                      obj_objectnumber  \\\n",
       "0               y  Innenstadt  aed0c058-e395-4d65-84b3-85f94a21bd5f   \n",
       "1               n   Espelkamp  5fe224ee-998b-4edd-be00-805fecd853e7   \n",
       "2               n      Egling                         FALC-MG-11509   \n",
       "3               n      Vingst  89f6f705-cc82-45d6-96a9-b429992cc47a   \n",
       "4               n    Buchholz  3255a794-67ac-4400-aeca-a674e4ac2cad   \n",
       "\n",
       "  obj_livingSpaceRange                     obj_regio2 obj_telekomTvOffer  \\\n",
       "0                    3                      Bielefeld      ONE_YEAR_FREE   \n",
       "1                    3          Minden_Lübbecke_Kreis      ONE_YEAR_FREE   \n",
       "2                    7  Bad_Tölz_Wolfratshausen_Kreis      ONE_YEAR_FREE   \n",
       "3                    3                           Köln                NaN   \n",
       "4                    3                       Dortmund      ONE_YEAR_FREE   \n",
       "\n",
       "  obj_telekomUploadSpeed obj_telekomDownloadSpeed    rent  \n",
       "0              40 MBit/s               100 MBit/s   887.0  \n",
       "1             2,4 MBit/s                16 MBit/s   690.0  \n",
       "2              40 MBit/s               100 MBit/s  1885.0  \n",
       "3                    NaN                      NaN   940.0  \n",
       "4              40 MBit/s               100 MBit/s   700.0  \n",
       "\n",
       "[5 rows x 34 columns]"
      ]
     },
     "execution_count": 10,
     "metadata": {},
     "output_type": "execute_result"
    }
   ],
   "source": [
    "df.head()"
   ]
  },
  {
   "cell_type": "markdown",
   "metadata": {},
   "source": [
    "##### Checking missing values"
   ]
  },
  {
   "cell_type": "code",
   "execution_count": 11,
   "metadata": {},
   "outputs": [
    {
     "data": {
      "text/plain": [
       "Unnamed: 0                                 0\n",
       "region                                     0\n",
       "obj_heatingType                        10466\n",
       "obj_cId                                    0\n",
       "obj_newlyConst                             0\n",
       "obj_pricetrend                           792\n",
       "obj_yearConstructed                    18079\n",
       "obj_pricetrendbuy                       8088\n",
       "obj_firingTypes                         4962\n",
       "obj_ExclusiveExpose                      305\n",
       "geo_bln                                    0\n",
       "obj_cellar                                 0\n",
       "obj_houseNumber                            0\n",
       "obj_livingSpace                            0\n",
       "geo_krs                                    0\n",
       "obj_zipCode                                0\n",
       "obj_condition                              0\n",
       "obj_street                                 0\n",
       "obj_streetPlain                            0\n",
       "geo_plz                                    0\n",
       "nr. of rooms                               0\n",
       "geo_land                                   0\n",
       "ga_cd_via                                  0\n",
       "obj_immotype                               0\n",
       "obj_telekomInternetProductAvailable     2699\n",
       "obj_barrierFree                            0\n",
       "obj_regio3                                 0\n",
       "obj_objectnumber                           0\n",
       "obj_livingSpaceRange                       0\n",
       "obj_regio2                                 0\n",
       "obj_telekomTvOffer                      9816\n",
       "obj_telekomUploadSpeed                 10048\n",
       "obj_telekomDownloadSpeed               10040\n",
       "rent                                   11905\n",
       "dtype: int64"
      ]
     },
     "execution_count": 11,
     "metadata": {},
     "output_type": "execute_result"
    }
   ],
   "source": [
    "df.isnull().sum()"
   ]
  },
  {
   "cell_type": "markdown",
   "metadata": {},
   "source": [
    "##### Checking duplicates and removing them"
   ]
  },
  {
   "cell_type": "code",
   "execution_count": 12,
   "metadata": {},
   "outputs": [
    {
     "data": {
      "text/plain": [
       "(83273, 34)"
      ]
     },
     "execution_count": 12,
     "metadata": {},
     "output_type": "execute_result"
    }
   ],
   "source": [
    "df.shape"
   ]
  },
  {
   "cell_type": "code",
   "execution_count": 13,
   "metadata": {},
   "outputs": [],
   "source": [
    "df_dups = df[df.duplicated()]"
   ]
  },
  {
   "cell_type": "code",
   "execution_count": 14,
   "metadata": {},
   "outputs": [
    {
     "data": {
      "text/plain": [
       "(0, 34)"
      ]
     },
     "execution_count": 14,
     "metadata": {},
     "output_type": "execute_result"
    }
   ],
   "source": [
    "df_dups.shape"
   ]
  },
  {
   "cell_type": "code",
   "execution_count": 15,
   "metadata": {},
   "outputs": [],
   "source": [
    "df_nodups = df.drop_duplicates()"
   ]
  },
  {
   "cell_type": "code",
   "execution_count": 16,
   "metadata": {},
   "outputs": [
    {
     "data": {
      "text/plain": [
       "(83273, 34)"
      ]
     },
     "execution_count": 16,
     "metadata": {},
     "output_type": "execute_result"
    }
   ],
   "source": [
    "df_nodups.shape"
   ]
  },
  {
   "cell_type": "markdown",
   "metadata": {},
   "source": [
    "### removing all NaNs from dataset"
   ]
  },
  {
   "cell_type": "code",
   "execution_count": 17,
   "metadata": {},
   "outputs": [
    {
     "data": {
      "text/plain": [
       "True"
      ]
     },
     "execution_count": 17,
     "metadata": {},
     "output_type": "execute_result"
    }
   ],
   "source": [
    "df_nodups.isnull().values.any()"
   ]
  },
  {
   "cell_type": "code",
   "execution_count": 18,
   "metadata": {},
   "outputs": [],
   "source": [
    "df_nodups = df_nodups.dropna()"
   ]
  },
  {
   "cell_type": "code",
   "execution_count": 19,
   "metadata": {},
   "outputs": [
    {
     "data": {
      "text/plain": [
       "False"
      ]
     },
     "execution_count": 19,
     "metadata": {},
     "output_type": "execute_result"
    }
   ],
   "source": [
    "df_nodups.isnull().values.any()"
   ]
  },
  {
   "cell_type": "markdown",
   "metadata": {},
   "source": [
    "##### Extreme values checks"
   ]
  },
  {
   "cell_type": "code",
   "execution_count": 20,
   "metadata": {
    "scrolled": true
   },
   "outputs": [
    {
     "data": {
      "text/plain": [
       "<seaborn.axisgrid.FacetGrid at 0x211f3e01450>"
      ]
     },
     "execution_count": 20,
     "metadata": {},
     "output_type": "execute_result"
    },
    {
     "data": {
      "image/png": "[encoded data removed]",
      "text/plain": [
       "<Figure size 500x500 with 1 Axes>"
      ]
     },
     "metadata": {},
     "output_type": "display_data"
    }
   ],
   "source": [
    "sns.displot(df_nodups['rent'], bins=30)\n"
   ]
  },
  {
   "cell_type": "markdown",
   "metadata": {},
   "source": [
    "***Check the mean-rent***"
   ]
  },
  {
   "cell_type": "code",
   "execution_count": 21,
   "metadata": {},
   "outputs": [
    {
     "data": {
      "text/plain": [
       "818.782824254991"
      ]
     },
     "execution_count": 21,
     "metadata": {},
     "output_type": "execute_result"
    }
   ],
   "source": [
    "df_nodups['rent'].mean() "
   ]
  },
  {
   "cell_type": "markdown",
   "metadata": {},
   "source": [
    "***check the median-rent***"
   ]
  },
  {
   "cell_type": "code",
   "execution_count": 22,
   "metadata": {},
   "outputs": [
    {
     "data": {
      "text/plain": [
       "650.0"
      ]
     },
     "execution_count": 22,
     "metadata": {},
     "output_type": "execute_result"
    }
   ],
   "source": [
    "df_nodups['rent'].median()"
   ]
  },
  {
   "cell_type": "markdown",
   "metadata": {},
   "source": [
    "***check the max-rent***"
   ]
  },
  {
   "cell_type": "code",
   "execution_count": 23,
   "metadata": {},
   "outputs": [
    {
     "data": {
      "text/plain": [
       "15500.0"
      ]
     },
     "execution_count": 23,
     "metadata": {},
     "output_type": "execute_result"
    }
   ],
   "source": [
    "df_nodups['rent'].max() "
   ]
  },
  {
   "cell_type": "markdown",
   "metadata": {},
   "source": [
    "***check the min-rent***"
   ]
  },
  {
   "cell_type": "code",
   "execution_count": 24,
   "metadata": {},
   "outputs": [
    {
     "data": {
      "text/plain": [
       "0.0"
      ]
     },
     "execution_count": 24,
     "metadata": {},
     "output_type": "execute_result"
    }
   ],
   "source": [
    "df_nodups['rent'].min() "
   ]
  },
  {
   "cell_type": "markdown",
   "metadata": {},
   "source": [
    "***check the median-nr. of rooms***"
   ]
  },
  {
   "cell_type": "code",
   "execution_count": 25,
   "metadata": {},
   "outputs": [
    {
     "data": {
      "text/plain": [
       "3.0"
      ]
     },
     "execution_count": 25,
     "metadata": {},
     "output_type": "execute_result"
    }
   ],
   "source": [
    "df_nodups['nr. of rooms'].median() "
   ]
  },
  {
   "cell_type": "markdown",
   "metadata": {},
   "source": [
    "***check the mean-nr.of rooms***"
   ]
  },
  {
   "cell_type": "code",
   "execution_count": 26,
   "metadata": {},
   "outputs": [
    {
     "data": {
      "text/plain": [
       "2.5924422468564745"
      ]
     },
     "execution_count": 26,
     "metadata": {},
     "output_type": "execute_result"
    }
   ],
   "source": [
    "df_nodups['nr. of rooms'].mean() "
   ]
  },
  {
   "cell_type": "markdown",
   "metadata": {},
   "source": [
    "***check the max-nr.of rooms***"
   ]
  },
  {
   "cell_type": "code",
   "execution_count": 27,
   "metadata": {},
   "outputs": [
    {
     "data": {
      "text/plain": [
       "200.0"
      ]
     },
     "execution_count": 27,
     "metadata": {},
     "output_type": "execute_result"
    }
   ],
   "source": [
    "df_nodups['nr. of rooms'].max()"
   ]
  },
  {
   "cell_type": "markdown",
   "metadata": {},
   "source": [
    "***removing outliers from dataset***"
   ]
  },
  {
   "cell_type": "code",
   "execution_count": 28,
   "metadata": {},
   "outputs": [],
   "source": [
    "df_nodups.drop(df_nodups[df_nodups['nr. of rooms'] >= 15].index, inplace = True)"
   ]
  },
  {
   "cell_type": "code",
   "execution_count": 29,
   "metadata": {},
   "outputs": [],
   "source": [
    "df_nodups.drop(df_nodups[df_nodups['rent'] <= 400].index, inplace = True)"
   ]
  },
  {
   "cell_type": "markdown",
   "metadata": {},
   "source": [
    "### 3. Data prep for regression analysis "
   ]
  },
  {
   "cell_type": "markdown",
   "metadata": {},
   "source": [
    "**HYPOTHESIS: the higher the number of rooms, the higher will be the rent**"
   ]
  },
  {
   "cell_type": "markdown",
   "metadata": {},
   "source": [
    "**creating a scatterplot**"
   ]
  },
  {
   "cell_type": "code",
   "execution_count": 30,
   "metadata": {},
   "outputs": [
    {
     "data": {
      "image/png": "[encoded data removed]",
      "text/plain": [
       "<Figure size 640x480 with 1 Axes>"
      ]
     },
     "metadata": {},
     "output_type": "display_data"
    }
   ],
   "source": [
    "df_nodups.plot(x = 'nr. of rooms', y='rent',style='o') # The style option creates a scatterplot; without it, we only have lines.\n",
    "plt.title('Number of rooms vs. rent')  \n",
    "plt.xlabel('nr. of rooms')  \n",
    "plt.ylabel('rent')  \n",
    "plt.show()"
   ]
  },
  {
   "cell_type": "markdown",
   "metadata": {},
   "source": [
    "**Reshape the variables into NumPy arrays and put them into separate objects**"
   ]
  },
  {
   "cell_type": "code",
   "execution_count": 31,
   "metadata": {},
   "outputs": [],
   "source": [
    "X = df_nodups['nr. of rooms'].values.reshape(-1,1)\n",
    "y = df_nodups['rent'].values.reshape(-1,1)"
   ]
  },
  {
   "cell_type": "code",
   "execution_count": 32,
   "metadata": {},
   "outputs": [
    {
     "data": {
      "text/plain": [
       "array([[2.],\n",
       "       [2.],\n",
       "       [2.],\n",
       "       ...,\n",
       "       [4.],\n",
       "       [4.],\n",
       "       [3.]])"
      ]
     },
     "execution_count": 32,
     "metadata": {},
     "output_type": "execute_result"
    }
   ],
   "source": [
    "X"
   ]
  },
  {
   "cell_type": "code",
   "execution_count": 33,
   "metadata": {},
   "outputs": [
    {
     "data": {
      "text/plain": [
       "array([[ 887.  ],\n",
       "       [ 690.  ],\n",
       "       [1885.  ],\n",
       "       ...,\n",
       "       [ 525.  ],\n",
       "       [1944.32],\n",
       "       [ 410.  ]])"
      ]
     },
     "execution_count": 33,
     "metadata": {},
     "output_type": "execute_result"
    }
   ],
   "source": [
    "y"
   ]
  },
  {
   "cell_type": "markdown",
   "metadata": {},
   "source": [
    "**Split data into a training set and a test set.**"
   ]
  },
  {
   "cell_type": "code",
   "execution_count": 34,
   "metadata": {},
   "outputs": [],
   "source": [
    "X_train, X_test, y_train, y_test = train_test_split(X, y, test_size=0.3, random_state=0)"
   ]
  },
  {
   "cell_type": "markdown",
   "metadata": {},
   "source": [
    "### 4. Regression Analysis"
   ]
  },
  {
   "cell_type": "markdown",
   "metadata": {},
   "source": [
    "**Create a regression object**"
   ]
  },
  {
   "cell_type": "code",
   "execution_count": 35,
   "metadata": {},
   "outputs": [],
   "source": [
    "regression = LinearRegression() "
   ]
  },
  {
   "cell_type": "markdown",
   "metadata": {},
   "source": [
    "**fitting the regression object in the training set.**"
   ]
  },
  {
   "cell_type": "code",
   "execution_count": 36,
   "metadata": {},
   "outputs": [
    {
     "data": {
      "text/html": [
       "<style>#sk-container-id-1 {color: black;background-color: white;}#sk-container-id-1 pre{padding: 0;}#sk-container-id-1 div.sk-toggleable {background-color: white;}#sk-container-id-1 label.sk-toggleable__label {cursor: pointer;display: block;width: 100%;margin-bottom: 0;padding: 0.3em;box-sizing: border-box;text-align: center;}#sk-container-id-1 label.sk-toggleable__label-arrow:before {content: \"▸\";float: left;margin-right: 0.25em;color: #696969;}#sk-container-id-1 label.sk-toggleable__label-arrow:hover:before {color: black;}#sk-container-id-1 div.sk-estimator:hover label.sk-toggleable__label-arrow:before {color: black;}#sk-container-id-1 div.sk-toggleable__content {max-height: 0;max-width: 0;overflow: hidden;text-align: left;background-color: #f0f8ff;}#sk-container-id-1 div.sk-toggleable__content pre {margin: 0.2em;color: black;border-radius: 0.25em;background-color: #f0f8ff;}#sk-container-id-1 input.sk-toggleable__control:checked~div.sk-toggleable__content {max-height: 200px;max-width: 100%;overflow: auto;}#sk-container-id-1 input.sk-toggleable__control:checked~label.sk-toggleable__label-arrow:before {content: \"▾\";}#sk-container-id-1 div.sk-estimator input.sk-toggleable__control:checked~label.sk-toggleable__label {background-color: #d4ebff;}#sk-container-id-1 div.sk-label input.sk-toggleable__control:checked~label.sk-toggleable__label {background-color: #d4ebff;}#sk-container-id-1 input.sk-hidden--visually {border: 0;clip: rect(1px 1px 1px 1px);clip: rect(1px, 1px, 1px, 1px);height: 1px;margin: -1px;overflow: hidden;padding: 0;position: absolute;width: 1px;}#sk-container-id-1 div.sk-estimator {font-family: monospace;background-color: #f0f8ff;border: 1px dotted black;border-radius: 0.25em;box-sizing: border-box;margin-bottom: 0.5em;}#sk-container-id-1 div.sk-estimator:hover {background-color: #d4ebff;}#sk-container-id-1 div.sk-parallel-item::after {content: \"\";width: 100%;border-bottom: 1px solid gray;flex-grow: 1;}#sk-container-id-1 div.sk-label:hover label.sk-toggleable__label {background-color: #d4ebff;}#sk-container-id-1 div.sk-serial::before {content: \"\";position: absolute;border-left: 1px solid gray;box-sizing: border-box;top: 0;bottom: 0;left: 50%;z-index: 0;}#sk-container-id-1 div.sk-serial {display: flex;flex-direction: column;align-items: center;background-color: white;padding-right: 0.2em;padding-left: 0.2em;position: relative;}#sk-container-id-1 div.sk-item {position: relative;z-index: 1;}#sk-container-id-1 div.sk-parallel {display: flex;align-items: stretch;justify-content: center;background-color: white;position: relative;}#sk-container-id-1 div.sk-item::before, #sk-container-id-1 div.sk-parallel-item::before {content: \"\";position: absolute;border-left: 1px solid gray;box-sizing: border-box;top: 0;bottom: 0;left: 50%;z-index: -1;}#sk-container-id-1 div.sk-parallel-item {display: flex;flex-direction: column;z-index: 1;position: relative;background-color: white;}#sk-container-id-1 div.sk-parallel-item:first-child::after {align-self: flex-end;width: 50%;}#sk-container-id-1 div.sk-parallel-item:last-child::after {align-self: flex-start;width: 50%;}#sk-container-id-1 div.sk-parallel-item:only-child::after {width: 0;}#sk-container-id-1 div.sk-dashed-wrapped {border: 1px dashed gray;margin: 0 0.4em 0.5em 0.4em;box-sizing: border-box;padding-bottom: 0.4em;background-color: white;}#sk-container-id-1 div.sk-label label {font-family: monospace;font-weight: bold;display: inline-block;line-height: 1.2em;}#sk-container-id-1 div.sk-label-container {text-align: center;}#sk-container-id-1 div.sk-container {/* jupyter's `normalize.less` sets `[hidden] { display: none; }` but bootstrap.min.css set `[hidden] { display: none !important; }` so we also need the `!important` here to be able to override the default hidden behavior on the sphinx rendered scikit-learn.org. See: https://github.com/scikit-learn/scikit-learn/issues/21755 */display: inline-block !important;position: relative;}#sk-container-id-1 div.sk-text-repr-fallback {display: none;}</style><div id=\"sk-container-id-1\" class=\"sk-top-container\"><div class=\"sk-text-repr-fallback\"><pre>LinearRegression()</pre><b>In a Jupyter environment, please rerun this cell to show the HTML representation or trust the notebook. <br />On GitHub, the HTML representation is unable to render, please try loading this page with nbviewer.org.</b></div><div class=\"sk-container\" hidden><div class=\"sk-item\"><div class=\"sk-estimator sk-toggleable\"><input class=\"sk-toggleable__control sk-hidden--visually\" id=\"sk-estimator-id-1\" type=\"checkbox\" checked><label for=\"sk-estimator-id-1\" class=\"sk-toggleable__label sk-toggleable__label-arrow\">LinearRegression</label><div class=\"sk-toggleable__content\"><pre>LinearRegression()</pre></div></div></div></div></div>"
      ],
      "text/plain": [
       "LinearRegression()"
      ]
     },
     "execution_count": 36,
     "metadata": {},
     "output_type": "execute_result"
    }
   ],
   "source": [
    "regression.fit(X_train, y_train)"
   ]
  },
  {
   "cell_type": "markdown",
   "metadata": {},
   "source": [
    "**predict the values of y based on X**"
   ]
  },
  {
   "cell_type": "code",
   "execution_count": 37,
   "metadata": {},
   "outputs": [],
   "source": [
    "y_predicted = regression.predict(X_test)"
   ]
  },
  {
   "cell_type": "markdown",
   "metadata": {},
   "source": [
    "**create a plot that shows the regression line from the model on the test set**"
   ]
  },
  {
   "cell_type": "code",
   "execution_count": 38,
   "metadata": {},
   "outputs": [
    {
     "data": {
      "image/png": "[encoded data removed]",
      "text/plain": [
       "<Figure size 640x480 with 1 Axes>"
      ]
     },
     "metadata": {},
     "output_type": "display_data"
    }
   ],
   "source": [
    "plot_test = plt\n",
    "plot_test.scatter(X_test, y_test, color='gray', s = 15)\n",
    "plot_test.plot(X_test, y_predicted, color='red', linewidth =3)\n",
    "plot_test.title('Number of rooms vs. rent (Test set)')\n",
    "plot_test.xlabel('nr. of rooms')\n",
    "plot_test.ylabel('rent')\n",
    "plot_test.show()"
   ]
  },
  {
   "cell_type": "markdown",
   "metadata": {},
   "source": [
    "**the line does not seem to offer a valid representation of a positive correlation between nr. of rooms and rent prices. The distance between the line and the points seems quite large**"
   ]
  },
  {
   "cell_type": "markdown",
   "metadata": {},
   "source": [
    "**Check MSE and R2 score**\n",
    "**Create objects that includes the model summary statistics**"
   ]
  },
  {
   "cell_type": "code",
   "execution_count": 39,
   "metadata": {},
   "outputs": [],
   "source": [
    "rmse = mean_squared_error(y_test, y_predicted) \n",
    "r2 = r2_score(y_test, y_predicted) "
   ]
  },
  {
   "cell_type": "markdown",
   "metadata": {},
   "source": [
    "**show the model summary statistics**"
   ]
  },
  {
   "cell_type": "code",
   "execution_count": 40,
   "metadata": {},
   "outputs": [
    {
     "name": "stdout",
     "output_type": "stream",
     "text": [
      "Slope: [[256.41120039]]\n",
      "Mean squared error:  289301.82602233527\n",
      "R2 score:  0.1723566912265868\n"
     ]
    }
   ],
   "source": [
    "print('Slope:' ,regression.coef_)\n",
    "print('Mean squared error: ', rmse)\n",
    "print('R2 score: ', r2)"
   ]
  },
  {
   "cell_type": "markdown",
   "metadata": {},
   "source": [
    "**Create a dataframe comparing the actual and predicted values of y**"
   ]
  },
  {
   "cell_type": "code",
   "execution_count": 41,
   "metadata": {},
   "outputs": [
    {
     "data": {
      "text/html": [
       "<div>\n",
       "<style scoped>\n",
       "    .dataframe tbody tr th:only-of-type {\n",
       "        vertical-align: middle;\n",
       "    }\n",
       "\n",
       "    .dataframe tbody tr th {\n",
       "        vertical-align: top;\n",
       "    }\n",
       "\n",
       "    .dataframe thead th {\n",
       "        text-align: right;\n",
       "    }\n",
       "</style>\n",
       "<table border=\"1\" class=\"dataframe\">\n",
       "  <thead>\n",
       "    <tr style=\"text-align: right;\">\n",
       "      <th></th>\n",
       "      <th>Actual</th>\n",
       "      <th>Predicted</th>\n",
       "    </tr>\n",
       "  </thead>\n",
       "  <tbody>\n",
       "    <tr>\n",
       "      <th>0</th>\n",
       "      <td>834.56</td>\n",
       "      <td>704.918259</td>\n",
       "    </tr>\n",
       "    <tr>\n",
       "      <th>1</th>\n",
       "      <td>545.00</td>\n",
       "      <td>704.918259</td>\n",
       "    </tr>\n",
       "    <tr>\n",
       "      <th>2</th>\n",
       "      <td>990.00</td>\n",
       "      <td>704.918259</td>\n",
       "    </tr>\n",
       "    <tr>\n",
       "      <th>3</th>\n",
       "      <td>670.00</td>\n",
       "      <td>961.329459</td>\n",
       "    </tr>\n",
       "    <tr>\n",
       "      <th>4</th>\n",
       "      <td>519.00</td>\n",
       "      <td>704.918259</td>\n",
       "    </tr>\n",
       "    <tr>\n",
       "      <th>5</th>\n",
       "      <td>1571.92</td>\n",
       "      <td>961.329459</td>\n",
       "    </tr>\n",
       "    <tr>\n",
       "      <th>6</th>\n",
       "      <td>405.00</td>\n",
       "      <td>704.918259</td>\n",
       "    </tr>\n",
       "    <tr>\n",
       "      <th>7</th>\n",
       "      <td>630.00</td>\n",
       "      <td>1217.740660</td>\n",
       "    </tr>\n",
       "    <tr>\n",
       "      <th>8</th>\n",
       "      <td>470.00</td>\n",
       "      <td>704.918259</td>\n",
       "    </tr>\n",
       "    <tr>\n",
       "      <th>9</th>\n",
       "      <td>890.00</td>\n",
       "      <td>961.329459</td>\n",
       "    </tr>\n",
       "    <tr>\n",
       "      <th>10</th>\n",
       "      <td>405.00</td>\n",
       "      <td>448.507059</td>\n",
       "    </tr>\n",
       "    <tr>\n",
       "      <th>11</th>\n",
       "      <td>529.00</td>\n",
       "      <td>961.329459</td>\n",
       "    </tr>\n",
       "    <tr>\n",
       "      <th>12</th>\n",
       "      <td>501.79</td>\n",
       "      <td>704.918259</td>\n",
       "    </tr>\n",
       "    <tr>\n",
       "      <th>13</th>\n",
       "      <td>550.00</td>\n",
       "      <td>704.918259</td>\n",
       "    </tr>\n",
       "    <tr>\n",
       "      <th>14</th>\n",
       "      <td>945.00</td>\n",
       "      <td>704.918259</td>\n",
       "    </tr>\n",
       "    <tr>\n",
       "      <th>15</th>\n",
       "      <td>1230.00</td>\n",
       "      <td>961.329459</td>\n",
       "    </tr>\n",
       "    <tr>\n",
       "      <th>16</th>\n",
       "      <td>460.00</td>\n",
       "      <td>576.712659</td>\n",
       "    </tr>\n",
       "    <tr>\n",
       "      <th>17</th>\n",
       "      <td>413.00</td>\n",
       "      <td>704.918259</td>\n",
       "    </tr>\n",
       "    <tr>\n",
       "      <th>18</th>\n",
       "      <td>675.00</td>\n",
       "      <td>961.329459</td>\n",
       "    </tr>\n",
       "    <tr>\n",
       "      <th>19</th>\n",
       "      <td>781.00</td>\n",
       "      <td>1217.740660</td>\n",
       "    </tr>\n",
       "    <tr>\n",
       "      <th>20</th>\n",
       "      <td>479.77</td>\n",
       "      <td>448.507059</td>\n",
       "    </tr>\n",
       "    <tr>\n",
       "      <th>21</th>\n",
       "      <td>577.76</td>\n",
       "      <td>961.329459</td>\n",
       "    </tr>\n",
       "    <tr>\n",
       "      <th>22</th>\n",
       "      <td>1050.00</td>\n",
       "      <td>961.329459</td>\n",
       "    </tr>\n",
       "    <tr>\n",
       "      <th>23</th>\n",
       "      <td>820.00</td>\n",
       "      <td>704.918259</td>\n",
       "    </tr>\n",
       "    <tr>\n",
       "      <th>24</th>\n",
       "      <td>620.00</td>\n",
       "      <td>961.329459</td>\n",
       "    </tr>\n",
       "    <tr>\n",
       "      <th>25</th>\n",
       "      <td>600.00</td>\n",
       "      <td>961.329459</td>\n",
       "    </tr>\n",
       "    <tr>\n",
       "      <th>26</th>\n",
       "      <td>1269.95</td>\n",
       "      <td>704.918259</td>\n",
       "    </tr>\n",
       "    <tr>\n",
       "      <th>27</th>\n",
       "      <td>1900.00</td>\n",
       "      <td>1217.740660</td>\n",
       "    </tr>\n",
       "    <tr>\n",
       "      <th>28</th>\n",
       "      <td>413.00</td>\n",
       "      <td>704.918259</td>\n",
       "    </tr>\n",
       "    <tr>\n",
       "      <th>29</th>\n",
       "      <td>1660.00</td>\n",
       "      <td>961.329459</td>\n",
       "    </tr>\n",
       "  </tbody>\n",
       "</table>\n",
       "</div>"
      ],
      "text/plain": [
       "     Actual    Predicted\n",
       "0    834.56   704.918259\n",
       "1    545.00   704.918259\n",
       "2    990.00   704.918259\n",
       "3    670.00   961.329459\n",
       "4    519.00   704.918259\n",
       "5   1571.92   961.329459\n",
       "6    405.00   704.918259\n",
       "7    630.00  1217.740660\n",
       "8    470.00   704.918259\n",
       "9    890.00   961.329459\n",
       "10   405.00   448.507059\n",
       "11   529.00   961.329459\n",
       "12   501.79   704.918259\n",
       "13   550.00   704.918259\n",
       "14   945.00   704.918259\n",
       "15  1230.00   961.329459\n",
       "16   460.00   576.712659\n",
       "17   413.00   704.918259\n",
       "18   675.00   961.329459\n",
       "19   781.00  1217.740660\n",
       "20   479.77   448.507059\n",
       "21   577.76   961.329459\n",
       "22  1050.00   961.329459\n",
       "23   820.00   704.918259\n",
       "24   620.00   961.329459\n",
       "25   600.00   961.329459\n",
       "26  1269.95   704.918259\n",
       "27  1900.00  1217.740660\n",
       "28   413.00   704.918259\n",
       "29  1660.00   961.329459"
      ]
     },
     "execution_count": 41,
     "metadata": {},
     "output_type": "execute_result"
    }
   ],
   "source": [
    "data = pd.DataFrame({'Actual': y_test.flatten(), 'Predicted': y_predicted.flatten()})\n",
    "data.head(30)"
   ]
  },
  {
   "cell_type": "markdown",
   "metadata": {},
   "source": [
    "**COMMENT: The summary statistics of the model clarifies that the model is inaccurate.\n",
    "The variance in the actual vs prdicted values is way too large.\n",
    "The slope is positive, which indicates that if nr. of rooms goes up, also rent goes up.\n",
    "The low R2 score indicates a poor fit.\n",
    "The high MSQ shows that the regression line is far away from the points, which means again that the regression line is not an accurate representation of the data.***\n"
   ]
  },
  {
   "cell_type": "markdown",
   "metadata": {},
   "source": [
    "**Compare how the regression fits the training set**"
   ]
  },
  {
   "cell_type": "code",
   "execution_count": 46,
   "metadata": {},
   "outputs": [],
   "source": [
    "y_predicted_train = regression.predict(X_train)"
   ]
  },
  {
   "cell_type": "code",
   "execution_count": 47,
   "metadata": {},
   "outputs": [],
   "source": [
    "rmse = mean_squared_error(y_train, y_predicted_train)\n",
    "r2 = r2_score(y_train, y_predicted_train)"
   ]
  },
  {
   "cell_type": "code",
   "execution_count": 48,
   "metadata": {},
   "outputs": [
    {
     "name": "stdout",
     "output_type": "stream",
     "text": [
      "Slope: [[256.41120039]]\n",
      "Mean squared error:  248487.45335649716\n",
      "R2 score:  0.1862763144685139\n"
     ]
    }
   ],
   "source": [
    "print('Slope:' ,regression.coef_)\n",
    "print('Mean squared error: ', rmse)\n",
    "print('R2 score: ', r2)"
   ]
  },
  {
   "cell_type": "code",
   "execution_count": 45,
   "metadata": {},
   "outputs": [
    {
     "data": {
      "image/png": "[encoded data removed]",
      "text/plain": [
       "<Figure size 640x480 with 1 Axes>"
      ]
     },
     "metadata": {},
     "output_type": "display_data"
    }
   ],
   "source": [
    "plot_test = plt\n",
    "plot_test.scatter(X_test, y_test, color='gray', s = 15)\n",
    "plot_test.plot(X_test, y_predicted, color='red', linewidth =3)\n",
    "plot_test.title('Number of rooms vs. rent (Training set)')\n",
    "plot_test.xlabel('nr. of rooms')\n",
    "plot_test.ylabel('rent')\n",
    "plot_test.show()"
   ]
  },
  {
   "cell_type": "markdown",
   "metadata": {},
   "source": [
    "**We can see a similar outcome in the training set.\n",
    "The Slope is similar to the Test set, the MSE is only marginally lower, the R2 is only marginally higher than the Training set.\n",
    "All of the above make it clear that this is not a good model to use. \n",
    "It also proves again that a higher nr. of rooms do not necessarily results in a higher rent.**"
   ]
  },
  {
   "cell_type": "code",
   "execution_count": null,
   "metadata": {},
   "outputs": [],
   "source": []
  }
 ],
 "metadata": {
  "kernelspec": {
   "display_name": "Python 3 (ipykernel)",
   "language": "python",
   "name": "python3"
  },
  "language_info": {
   "codemirror_mode": {
    "name": "ipython",
    "version": 3
   },
   "file_extension": ".py",
   "mimetype": "text/x-python",
   "name": "python",
   "nbconvert_exporter": "python",
   "pygments_lexer": "ipython3",
   "version": "3.10.9"
  }
 },
 "nbformat": 4,
 "nbformat_minor": 4
}
